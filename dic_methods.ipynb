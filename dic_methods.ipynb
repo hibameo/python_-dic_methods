{
  "nbformat": 4,
  "nbformat_minor": 0,
  "metadata": {
    "colab": {
      "provenance": [],
      "authorship_tag": "ABX9TyNy+c+vmw5eEBzga2LR4rKP",
      "include_colab_link": true
    },
    "kernelspec": {
      "name": "python3",
      "display_name": "Python 3"
    },
    "language_info": {
      "name": "python"
    }
  },
  "cells": [
    {
      "cell_type": "markdown",
      "metadata": {
        "id": "view-in-github",
        "colab_type": "text"
      },
      "source": [
        "<a href=\"https://colab.research.google.com/github/hibameo/python_-dic_methods/blob/main/dic_methods.ipynb\" target=\"_parent\"><img src=\"https://colab.research.google.com/assets/colab-badge.svg\" alt=\"Open In Colab\"/></a>"
      ]
    },
    {
      "cell_type": "code",
      "execution_count": null,
      "metadata": {
        "colab": {
          "base_uri": "https://localhost:8080/"
        },
        "id": "z-2y_ZQuXQQh",
        "outputId": "f1556811-af0c-424f-e89d-8a879b1742a7"
      },
      "outputs": [
        {
          "output_type": "stream",
          "name": "stdout",
          "text": [
            "apna kam s kam rakho\n"
          ]
        }
      ],
      "source": [
        "student = {\n",
        "    \"name\": \"hiba\",\n",
        "    \"age\": \"18\",\n",
        "    \"city\": \"karachi\"\n",
        "}\n",
        "\n",
        "print(student.get(\"salary\",\"apna kam s kam rakho\"))\n",
        "\n",
        "\n"
      ]
    },
    {
      "cell_type": "code",
      "source": [
        "student = {\n",
        "    \"name\": \"hiba\",\n",
        "    \"age\": \"18\",\n",
        "    \"city\": \"karachi\"\n",
        "}\n",
        "\n",
        "print(student.keys())\n"
      ],
      "metadata": {
        "colab": {
          "base_uri": "https://localhost:8080/"
        },
        "id": "HW63PhnaZaU4",
        "outputId": "14d2a3f6-5eaa-45fb-d45d-3aba53615a4e"
      },
      "execution_count": null,
      "outputs": [
        {
          "output_type": "stream",
          "name": "stdout",
          "text": [
            "dict_keys(['name', 'age', 'city'])\n"
          ]
        }
      ]
    },
    {
      "cell_type": "code",
      "source": [
        "student = {\n",
        "    \"name\": \"hiba\",\n",
        "    \"age\": \"18\",\n",
        "    \"city\": \"karachi\"\n",
        "}\n",
        "\n",
        "\n",
        "for key in student.keys():\n",
        "  print(key)\n",
        "\n"
      ],
      "metadata": {
        "colab": {
          "base_uri": "https://localhost:8080/"
        },
        "id": "meLRlEEfZkUG",
        "outputId": "cbd6de50-f990-4446-d72d-c951e4c09d92"
      },
      "execution_count": null,
      "outputs": [
        {
          "output_type": "stream",
          "name": "stdout",
          "text": [
            "name\n",
            "age\n",
            "city\n"
          ]
        }
      ]
    },
    {
      "cell_type": "code",
      "source": [
        "student = {\n",
        "    \"name\": \"hiba\",\n",
        "    \"age\": \"18\",\n",
        "    \"city\": \"karachi\"\n",
        "}\n",
        "\n",
        "\n",
        "print(student.values())\n"
      ],
      "metadata": {
        "colab": {
          "base_uri": "https://localhost:8080/"
        },
        "id": "4xlWlUThZ1zy",
        "outputId": "e37fe4ac-bb58-4439-b003-552df6c9a025"
      },
      "execution_count": null,
      "outputs": [
        {
          "output_type": "stream",
          "name": "stdout",
          "text": [
            "dict_values(['hiba', '18', 'karachi'])\n"
          ]
        }
      ]
    },
    {
      "cell_type": "code",
      "source": [
        "student = {\n",
        "    \"name\": \"hiba\",\n",
        "    \"age\": \"18\",\n",
        "    \"city\": \"karachi\"\n",
        "}\n",
        "\n",
        "print(student.items())"
      ],
      "metadata": {
        "colab": {
          "base_uri": "https://localhost:8080/"
        },
        "id": "vO_Bik6ZaFkD",
        "outputId": "8e13f462-eaeb-4e06-f9c7-3ad417ce9dec"
      },
      "execution_count": null,
      "outputs": [
        {
          "output_type": "stream",
          "name": "stdout",
          "text": [
            "dict_items([('name', 'hiba'), ('age', '18'), ('city', 'karachi')])\n"
          ]
        }
      ]
    },
    {
      "cell_type": "code",
      "source": [
        "student = {\n",
        "    \"name\": \"hiba\",\n",
        "    \"age\": \"18\",\n",
        "    \"city\": \"karachi\"\n",
        "}\n",
        "\n",
        "\n",
        "\n",
        "print(student.items())\n",
        "\n",
        "for items in student.items():\n",
        "  print(items)\n"
      ],
      "metadata": {
        "colab": {
          "base_uri": "https://localhost:8080/"
        },
        "id": "unDQ-XmAaXwP",
        "outputId": "4c9bf6ff-a9ac-4c75-ef3e-7ee1af535fc3"
      },
      "execution_count": null,
      "outputs": [
        {
          "output_type": "stream",
          "name": "stdout",
          "text": [
            "dict_items([('name', 'hiba'), ('age', '18'), ('city', 'karachi')])\n",
            "('name', 'hiba')\n",
            "('age', '18')\n",
            "('city', 'karachi')\n"
          ]
        }
      ]
    },
    {
      "cell_type": "code",
      "source": [
        "student = {\n",
        "    \"name\": \"hiba\",\n",
        "    \"age\": \"18\",\n",
        "    \"city\": \"karachi\"\n",
        "}\n",
        "\n",
        "student.clear()\n",
        "\n",
        "print(student)\n",
        "\n"
      ],
      "metadata": {
        "colab": {
          "base_uri": "https://localhost:8080/"
        },
        "id": "bCQ8DUWuapYP",
        "outputId": "9ad767b1-d491-4d86-f5d8-88b3b5c7dacb"
      },
      "execution_count": null,
      "outputs": [
        {
          "output_type": "stream",
          "name": "stdout",
          "text": [
            "{}\n"
          ]
        }
      ]
    }
  ]
}